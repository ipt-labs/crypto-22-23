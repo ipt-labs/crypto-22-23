{
 "cells": [
  {
   "cell_type": "code",
   "execution_count": 1,
   "outputs": [],
   "source": [
    "import codecs\n",
    "import numpy as np\n",
    "import pandas as pd\n",
    "import re"
   ],
   "metadata": {
    "collapsed": false,
    "pycharm": {
     "name": "#%%\n"
    }
   }
  },
  {
   "cell_type": "code",
   "execution_count": 2,
   "outputs": [],
   "source": [
    "# Opening files cell\n",
    "text_file = codecs.open( \"metro-2033.txt\", \"r\", \"utf_8_sig\" )\n",
    "file = codecs.open('text.txt', 'w', \"utf_8_sig\")\n",
    "file_no_spaces = codecs.open('text-no-spaces.txt', 'w', \"utf_8_sig\")\n",
    "\n",
    "text = text_file.read()\n",
    "text_file.close()"
   ],
   "metadata": {
    "collapsed": false,
    "pycharm": {
     "name": "#%%\n"
    }
   }
  },
  {
   "cell_type": "code",
   "execution_count": 3,
   "outputs": [],
   "source": [
    "# Writing files cell\n",
    "text = text.lower()\n",
    "text = re.sub('[^а-я]', ' ', text)\n",
    "text = re.sub('ъ', 'ь', text)\n",
    "text = re.sub('ё', 'е', text)\n",
    "\n",
    "text_no_spaces = re.sub('\\s+', '', text)\n",
    "text = re.sub('\\s+', ' ', text)\n",
    "\n",
    "file.write(text)\n",
    "file_no_spaces.write(text_no_spaces)\n",
    "file.close()\n",
    "file_no_spaces.close()"
   ],
   "metadata": {
    "collapsed": false,
    "pycharm": {
     "name": "#%%\n"
    }
   }
  },
  {
   "cell_type": "code",
   "execution_count": 4,
   "outputs": [],
   "source": [
    "def count_probs(alphab, txt):\n",
    "    probs = {}\n",
    "    length = len(txt)\n",
    "    for symbol in alphab:\n",
    "        probs[symbol] = txt.count(symbol)/length\n",
    "    return probs"
   ],
   "metadata": {
    "collapsed": false,
    "pycharm": {
     "name": "#%%\n"
    }
   }
  },
  {
   "cell_type": "code",
   "execution_count": 5,
   "outputs": [],
   "source": [
    "def count_bigram_probs(alphab, txt):\n",
    "    alphab_square = [i+j for i in alphab for j in alphab]\n",
    "\n",
    "    probs = {}\n",
    "    length = len(txt) - 1\n",
    "    for bigram in alphab_square:\n",
    "        probs[bigram] = txt.count(bigram)/length\n",
    "    return probs\n"
   ],
   "metadata": {
    "collapsed": false,
    "pycharm": {
     "name": "#%%\n"
    }
   }
  },
  {
   "cell_type": "code",
   "execution_count": 6,
   "outputs": [],
   "source": [
    "def count_bigram_probs_2(alphab, txt):\n",
    "    alphab_square = [i+j for i in alphab for j in alphab]\n",
    "\n",
    "    probs = {}\n",
    "    length = int(len(txt)/2)\n",
    "    for i in alphab_square:\n",
    "        probs[i] = 0\n",
    "\n",
    "    for i in range(0, len(txt), 2):\n",
    "        if i < len(txt) - 1:\n",
    "            probs[txt[i]+txt[i+1]] += 1\n",
    "\n",
    "    probs = {k: v/length for k, v in probs.items()}\n",
    "    return probs"
   ],
   "metadata": {
    "collapsed": false,
    "pycharm": {
     "name": "#%%\n"
    }
   }
  },
  {
   "cell_type": "code",
   "execution_count": 7,
   "outputs": [],
   "source": [
    "def count_entropy(probs, length):\n",
    "    h = 0\n",
    "    prob_pos = {i: j for i, j in probs.items() if j != 0}\n",
    "    for key, value in prob_pos.items():\n",
    "        h += value * np.log2(value)\n",
    "    h = (1 / length) * -h\n",
    "\n",
    "    return h"
   ],
   "metadata": {
    "collapsed": false,
    "pycharm": {
     "name": "#%%\n"
    }
   }
  },
  {
   "cell_type": "code",
   "execution_count": 8,
   "outputs": [
    {
     "name": "stdout",
     "output_type": "stream",
     "text": [
      "With spaces:\n",
      "H1: 4.3719192771302975, H2_1: 3.968171239330339, H2_2: 3.9681105084082304\n",
      "Language redundancy:\n",
      "for H1: 0.12561614457394055, for H2_1: 0.20636575213393216, for H2_2: 0.20637789831835396\n"
     ]
    }
   ],
   "source": [
    "# Text with spaces\n",
    "alphabet = list('абвгдежзийклмнопрстуфхцчшщыьэюя ')\n",
    "\n",
    "H1 = count_entropy(count_probs(alphabet, text), 1)\n",
    "H2_1 = count_entropy(count_bigram_probs(alphabet, text), 2)\n",
    "H2_2 = count_entropy(count_bigram_probs_2(alphabet, text), 2)\n",
    "\n",
    "print('With spaces:')\n",
    "print(f'H1: {H1}, H2_1: {H2_1}, H2_2: {H2_2}')\n",
    "\n",
    "R = lambda h: 1 - h/np.log2(len(alphabet))\n",
    "\n",
    "print(f'Language redundancy:')\n",
    "print(f'for H1: {R(H1)}, for H2_1: {R(H2_1)}, for H2_2: {R(H2_2)}')"
   ],
   "metadata": {
    "collapsed": false,
    "pycharm": {
     "name": "#%%\n"
    }
   }
  },
  {
   "cell_type": "code",
   "execution_count": 9,
   "outputs": [
    {
     "name": "stdout",
     "output_type": "stream",
     "text": [
      "No spaces:\n",
      "H1: 4.453315120926602, H2_1: 4.136819747421218, H2_2: 4.13641832945434\n",
      "Language redundancy:\n",
      "for H1: 0.10110241057871183, for H2_1: 0.16498671262823406, for H2_2: 0.165067738478186\n"
     ]
    }
   ],
   "source": [
    "# Text without spaces\n",
    "alphabet_no_spaces = list('абвгдежзийклмнопрстуфхцчшщыьэюя')\n",
    "\n",
    "H1 = count_entropy(count_probs(alphabet_no_spaces, text_no_spaces), 1)\n",
    "H2_1 = count_entropy(count_bigram_probs(alphabet_no_spaces, text_no_spaces), 2)\n",
    "H2_2 = count_entropy(count_bigram_probs_2(alphabet_no_spaces, text_no_spaces), 2)\n",
    "\n",
    "print('No spaces:')\n",
    "print(f'H1: {H1}, H2_1: {H2_1}, H2_2: {H2_2}')\n",
    "\n",
    "R = lambda h: 1 - h/np.log2(len(alphabet_no_spaces))\n",
    "\n",
    "print(f'Language redundancy:')\n",
    "print(f'for H1: {R(H1)}, for H2_1: {R(H2_1)}, for H2_2: {R(H2_2)}')"
   ],
   "metadata": {
    "collapsed": false,
    "pycharm": {
     "name": "#%%\n"
    }
   }
  },
  {
   "cell_type": "code",
   "execution_count": 10,
   "outputs": [],
   "source": [
    "def write_to_xlsx(alphab, bigram_probs):\n",
    "    row_counter = 0\n",
    "    col_counter = 0\n",
    "    alphab = [x if x != ' ' else '_' for x in alphab]\n",
    "    alphab_len = len(alphab)\n",
    "    table = [[' '] + alphab]\n",
    "\n",
    "    values = list(bigram_probs.values())\n",
    "\n",
    "    for i in range(len(values)):\n",
    "        n = i // alphab_len\n",
    "        if row_counter == 0:\n",
    "            table.append([alphab[col_counter]])\n",
    "        table[n+1].append(values[i])\n",
    "        row_counter += 1\n",
    "        if row_counter == alphab_len:\n",
    "            row_counter = 0\n",
    "            col_counter += 1\n",
    "\n",
    "    df = pd.DataFrame(table).T\n",
    "    df.to_excel(excel_writer = \"D:/Лабs/test.xlsx\")"
   ],
   "metadata": {
    "collapsed": false,
    "pycharm": {
     "name": "#%%\n"
    }
   }
  },
  {
   "cell_type": "code",
   "execution_count": 11,
   "outputs": [],
   "source": [
    "write_to_xlsx(alphabet_no_spaces, count_bigram_probs(alphabet_no_spaces, text_no_spaces))"
   ],
   "metadata": {
    "collapsed": false,
    "pycharm": {
     "name": "#%%\n"
    }
   }
  }
 ],
 "metadata": {
  "kernelspec": {
   "display_name": "Python 3",
   "language": "python",
   "name": "python3"
  },
  "language_info": {
   "codemirror_mode": {
    "name": "ipython",
    "version": 2
   },
   "file_extension": ".py",
   "mimetype": "text/x-python",
   "name": "python",
   "nbconvert_exporter": "python",
   "pygments_lexer": "ipython2",
   "version": "2.7.6"
  }
 },
 "nbformat": 4,
 "nbformat_minor": 0
}